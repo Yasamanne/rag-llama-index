{
 "cells": [
  {
   "cell_type": "code",
   "execution_count": 1,
   "metadata": {
    "execution": {
     "iopub.execute_input": "2024-03-23T04:31:14.757452Z",
     "iopub.status.busy": "2024-03-23T04:31:14.757142Z",
     "iopub.status.idle": "2024-03-23T04:31:17.453192Z",
     "shell.execute_reply": "2024-03-23T04:31:17.452460Z",
     "shell.execute_reply.started": "2024-03-23T04:31:14.757430Z"
    }
   },
   "outputs": [],
   "source": [
    "## Retrieval augmented generation\n",
    "import os\n",
    "from dotenv import load_dotenv\n",
    "load_dotenv()\n",
    "import json\n",
    "from llama_index.core.response.pprint_utils import pprint_response"
   ]
  },
  {
   "cell_type": "code",
   "execution_count": 19,
   "metadata": {
    "execution": {
     "iopub.execute_input": "2024-03-23T04:46:42.029231Z",
     "iopub.status.busy": "2024-03-23T04:46:42.028904Z",
     "iopub.status.idle": "2024-03-23T04:46:42.033064Z",
     "shell.execute_reply": "2024-03-23T04:46:42.031986Z",
     "shell.execute_reply.started": "2024-03-23T04:46:42.029207Z"
    }
   },
   "outputs": [],
   "source": [
    "os.environ[\"OPENAI_API_KEY\"] = \"your-api-key\""
   ]
  },
  {
   "cell_type": "code",
   "execution_count": 3,
   "metadata": {
    "execution": {
     "iopub.execute_input": "2024-03-23T04:31:17.467260Z",
     "iopub.status.busy": "2024-03-23T04:31:17.465355Z",
     "iopub.status.idle": "2024-03-23T04:31:17.472336Z",
     "shell.execute_reply": "2024-03-23T04:31:17.471054Z",
     "shell.execute_reply.started": "2024-03-23T04:31:17.467138Z"
    }
   },
   "outputs": [],
   "source": [
    "os.environ['OPENAI_API_KEY']=os.getenv(\"OPENAI_API_KEY\")"
   ]
  },
  {
   "cell_type": "code",
   "execution_count": 4,
   "metadata": {
    "execution": {
     "iopub.execute_input": "2024-03-23T04:31:17.853764Z",
     "iopub.status.busy": "2024-03-23T04:31:17.853435Z",
     "iopub.status.idle": "2024-03-23T04:31:25.737175Z",
     "shell.execute_reply": "2024-03-23T04:31:25.736375Z",
     "shell.execute_reply.started": "2024-03-23T04:31:17.853738Z"
    }
   },
   "outputs": [],
   "source": [
    "from llama_index.core import VectorStoreIndex,SimpleDirectoryReader\n",
    "documents=SimpleDirectoryReader(\"data\").load_data()"
   ]
  },
  {
   "cell_type": "code",
   "execution_count": 5,
   "metadata": {
    "execution": {
     "iopub.execute_input": "2024-03-23T04:31:25.739380Z",
     "iopub.status.busy": "2024-03-23T04:31:25.738916Z",
     "iopub.status.idle": "2024-03-23T04:31:25.749862Z",
     "shell.execute_reply": "2024-03-23T04:31:25.744109Z",
     "shell.execute_reply.started": "2024-03-23T04:31:25.739334Z"
    },
    "scrolled": true
   },
   "outputs": [],
   "source": [
    "# documents"
   ]
  },
  {
   "cell_type": "code",
   "execution_count": 6,
   "metadata": {
    "execution": {
     "iopub.execute_input": "2024-03-23T04:31:25.752370Z",
     "iopub.status.busy": "2024-03-23T04:31:25.751714Z",
     "iopub.status.idle": "2024-03-23T04:32:03.643468Z",
     "shell.execute_reply": "2024-03-23T04:32:03.642346Z",
     "shell.execute_reply.started": "2024-03-23T04:31:25.752332Z"
    }
   },
   "outputs": [
    {
     "data": {
      "application/vnd.jupyter.widget-view+json": {
       "model_id": "db2f94b797a94484841123f532a92d4f",
       "version_major": 2,
       "version_minor": 0
      },
      "text/plain": [
       "Parsing nodes:   0%|          | 0/269 [00:00<?, ?it/s]"
      ]
     },
     "metadata": {},
     "output_type": "display_data"
    },
    {
     "data": {
      "application/vnd.jupyter.widget-view+json": {
       "model_id": "f64ced83cb8943e1b453895190d03f56",
       "version_major": 2,
       "version_minor": 0
      },
      "text/plain": [
       "Generating embeddings:   0%|          | 0/270 [00:00<?, ?it/s]"
      ]
     },
     "metadata": {},
     "output_type": "display_data"
    }
   ],
   "source": [
    "index=VectorStoreIndex.from_documents(documents,show_progress=True)"
   ]
  },
  {
   "cell_type": "code",
   "execution_count": 7,
   "metadata": {
    "execution": {
     "iopub.execute_input": "2024-03-23T04:32:03.647095Z",
     "iopub.status.busy": "2024-03-23T04:32:03.646634Z",
     "iopub.status.idle": "2024-03-23T04:32:03.748327Z",
     "shell.execute_reply": "2024-03-23T04:32:03.747367Z",
     "shell.execute_reply.started": "2024-03-23T04:32:03.647064Z"
    }
   },
   "outputs": [],
   "source": [
    "query_engine=index.as_query_engine()"
   ]
  },
  {
   "cell_type": "code",
   "execution_count": 8,
   "metadata": {
    "execution": {
     "iopub.execute_input": "2024-03-23T04:32:03.749664Z",
     "iopub.status.busy": "2024-03-23T04:32:03.749318Z",
     "iopub.status.idle": "2024-03-23T04:32:03.767003Z",
     "shell.execute_reply": "2024-03-23T04:32:03.766270Z",
     "shell.execute_reply.started": "2024-03-23T04:32:03.749639Z"
    }
   },
   "outputs": [],
   "source": [
    "from llama_index.core.retrievers import VectorIndexRetriever\n",
    "from llama_index.core.query_engine import RetrieverQueryEngine\n",
    "from llama_index.core.indices.postprocessor import SimilarityPostprocessor\n",
    "\n",
    "retriever=VectorIndexRetriever(index=index,similarity_top_k=4)\n",
    "postprocessor=SimilarityPostprocessor(similarity_cutoff=0.80)\n",
    "\n",
    "query_engine=RetrieverQueryEngine(retriever=retriever,\n",
    "                                  node_postprocessors=[postprocessor])\n"
   ]
  },
  {
   "cell_type": "code",
   "execution_count": 9,
   "metadata": {
    "execution": {
     "iopub.execute_input": "2024-03-23T04:32:03.768538Z",
     "iopub.status.busy": "2024-03-23T04:32:03.768147Z",
     "iopub.status.idle": "2024-03-23T04:32:03.775163Z",
     "shell.execute_reply": "2024-03-23T04:32:03.773758Z",
     "shell.execute_reply.started": "2024-03-23T04:32:03.768514Z"
    }
   },
   "outputs": [],
   "source": [
    "# pprint_response(response,show_source=True)\n",
    "# print(response)"
   ]
  },
  {
   "cell_type": "code",
   "execution_count": 10,
   "metadata": {
    "execution": {
     "iopub.execute_input": "2024-03-23T04:32:03.777750Z",
     "iopub.status.busy": "2024-03-23T04:32:03.777013Z",
     "iopub.status.idle": "2024-03-23T04:32:04.470363Z",
     "shell.execute_reply": "2024-03-23T04:32:04.469370Z",
     "shell.execute_reply.started": "2024-03-23T04:32:03.777713Z"
    }
   },
   "outputs": [],
   "source": [
    "from llama_index.core import (\n",
    "    VectorStoreIndex,\n",
    "    SimpleDirectoryReader,\n",
    "    StorageContext,\n",
    "    load_index_from_storage,\n",
    ")\n",
    "\n",
    "# check if storage already exists\n",
    "PERSIST_DIR = \"./storage\"\n",
    "if not os.path.exists(PERSIST_DIR):\n",
    "    # load the documents and create the index\n",
    "    documents = SimpleDirectoryReader(\"data\").load_data()\n",
    "    index = VectorStoreIndex.from_documents(documents)\n",
    "    # store it for later\n",
    "    index.storage_context.persist(persist_dir=PERSIST_DIR)\n",
    "else:\n",
    "    # load the existing index\n",
    "    storage_context = StorageContext.from_defaults(persist_dir=PERSIST_DIR)\n",
    "    index = load_index_from_storage(storage_context)\n",
    "\n",
    "def get_response(user_input):\n",
    "    query_engine = index.as_query_engine()\n",
    "    QUERY = \"generate 3 pairs of question answers on {prompt} in this format:\\n QUESTION: Question \\n ANSWER: Answer\"\n",
    "    query = QUERY.format(prompt=user_input)\n",
    "    print(query)\n",
    "    response = query_engine.query(query)\n",
    "    print(response)\n",
    "    return response\n"
   ]
  },
  {
   "cell_type": "code",
   "execution_count": 16,
   "metadata": {
    "execution": {
     "iopub.execute_input": "2024-03-23T04:37:36.780344Z",
     "iopub.status.busy": "2024-03-23T04:37:36.779992Z",
     "iopub.status.idle": "2024-03-23T04:37:36.785454Z",
     "shell.execute_reply": "2024-03-23T04:37:36.784752Z",
     "shell.execute_reply.started": "2024-03-23T04:37:36.780318Z"
    }
   },
   "outputs": [],
   "source": [
    "def write_to_file(file_name, query):\n",
    "    response = get_response(query)\n",
    "    # Splitting the data into lines\n",
    "    lines = str(response).split(\"\\n\")\n",
    "    \n",
    "    data_dict = {}\n",
    "    \n",
    "    for i in range(0, len(lines), 3):\n",
    "        question = lines[i].split(\": \")[1]\n",
    "        answer = lines[i+1].split(\": \")[1]\n",
    "        data_dict[question] = answer\n",
    "    \n",
    "    with open(file_name, \"w\") as json_file:\n",
    "        json.dump(data_dict, json_file, indent=4)\n",
    "    print(f\"JSON file with Q&A pairs saved at {file_name}\")"
   ]
  },
  {
   "cell_type": "code",
   "execution_count": 17,
   "metadata": {
    "execution": {
     "iopub.execute_input": "2024-03-23T04:37:37.164922Z",
     "iopub.status.busy": "2024-03-23T04:37:37.164275Z",
     "iopub.status.idle": "2024-03-23T04:37:39.462720Z",
     "shell.execute_reply": "2024-03-23T04:37:39.461511Z",
     "shell.execute_reply.started": "2024-03-23T04:37:37.164895Z"
    }
   },
   "outputs": [
    {
     "name": "stdout",
     "output_type": "stream",
     "text": [
      "generate 3 pairs of question answers on number of working hours allowed for F1 student for various cases in this format:\n",
      " QUESTION: Question \n",
      " ANSWER: Answer\n",
      "QUESTION: How many working hours are F1 students allowed during the academic year?\n",
      "ANSWER: F1 students are allowed to work up to 20 hours per week during the academic year.\n",
      "\n",
      "QUESTION: What is the maximum number of working hours F1 students can work during official school breaks?\n",
      "ANSWER: F1 students can work full-time (more than 20 hours per week) during official school breaks.\n",
      "\n",
      "QUESTION: Are F1 students allowed to work off-campus?\n",
      "ANSWER: F1 students are generally not allowed to work off-campus, unless they have received specific authorization from the designated school official or the U.S. Citizenship and Immigration Services (USCIS).\n",
      "JSON file with Q&A pairs saved at f1_working_hours.json\n"
     ]
    }
   ],
   "source": [
    "file_name = \"f1_working_hours.json\"\n",
    "query = \"number of working hours allowed for F1 student for various cases\"\n",
    "write_to_file(file_name, query)"
   ]
  },
  {
   "cell_type": "code",
   "execution_count": 18,
   "metadata": {
    "execution": {
     "iopub.execute_input": "2024-03-23T04:37:46.275146Z",
     "iopub.status.busy": "2024-03-23T04:37:46.274762Z",
     "iopub.status.idle": "2024-03-23T04:37:50.314705Z",
     "shell.execute_reply": "2024-03-23T04:37:50.313951Z",
     "shell.execute_reply.started": "2024-03-23T04:37:46.275120Z"
    }
   },
   "outputs": [
    {
     "name": "stdout",
     "output_type": "stream",
     "text": [
      "generate 3 pairs of question answers on employment authorization on B1 visa in this format:\n",
      " QUESTION: Question \n",
      " ANSWER: Answer\n",
      "QUESTION: What are the general requirements for obtaining employment authorization on a B1 visa?\n",
      "ANSWER: The general requirements for obtaining employment authorization on a B1 visa include demonstrating that the work is temporary, unrelated to the individual's profession, and that the individual will not receive payment from a U.S. source.\n",
      "\n",
      "QUESTION: Can individuals on a B1 visa engage in any form of employment in the United States?\n",
      "ANSWER: Individuals on a B1 visa are not allowed to engage in traditional employment in the United States. They are only permitted to participate in certain business activities, such as attending meetings, conferences, and negotiating contracts.\n",
      "\n",
      "QUESTION: How long can an individual on a B1 visa typically stay in the United States for business purposes?\n",
      "ANSWER: Individuals on a B1 visa can typically stay in the United States for up to six months for business purposes.\n",
      "JSON file with Q&A pairs saved at b1_visa_employment.json\n"
     ]
    }
   ],
   "source": [
    "file_name = \"b1_visa_employment.json\"\n",
    "query = \"employment authorization on B1 visa\"\n",
    "write_to_file(file_name, query)"
   ]
  },
  {
   "cell_type": "code",
   "execution_count": null,
   "metadata": {},
   "outputs": [],
   "source": []
  }
 ],
 "metadata": {
  "kernelspec": {
   "display_name": "Python 3 (ipykernel)",
   "language": "python",
   "name": "python3"
  },
  "language_info": {
   "codemirror_mode": {
    "name": "ipython",
    "version": 3
   },
   "file_extension": ".py",
   "mimetype": "text/x-python",
   "name": "python",
   "nbconvert_exporter": "python",
   "pygments_lexer": "ipython3",
   "version": "3.11.5"
  }
 },
 "nbformat": 4,
 "nbformat_minor": 4
}
